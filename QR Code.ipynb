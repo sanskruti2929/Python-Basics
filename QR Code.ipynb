{
 "cells": [
  {
   "cell_type": "code",
   "execution_count": 1,
   "id": "18d0adca-0218-411f-b517-f0d7d7945729",
   "metadata": {},
   "outputs": [
    {
     "name": "stdout",
     "output_type": "stream",
     "text": [
      "Collecting pyqrcode\n",
      "  Downloading PyQRCode-1.2.1.zip (41 kB)\n",
      "     ---------------------------------------- 0.0/41.9 kB ? eta -:--:--\n",
      "     --------- ------------------------------ 10.2/41.9 kB ? eta -:--:--\n",
      "     ------------------ ------------------- 20.5/41.9 kB 217.9 kB/s eta 0:00:01\n",
      "     --------------------------- ---------- 30.7/41.9 kB 220.2 kB/s eta 0:00:01\n",
      "     -------------------------------------- 41.9/41.9 kB 253.5 kB/s eta 0:00:00\n",
      "  Installing build dependencies: started\n",
      "  Installing build dependencies: finished with status 'done'\n",
      "  Getting requirements to build wheel: started\n",
      "  Getting requirements to build wheel: finished with status 'done'\n",
      "  Preparing metadata (pyproject.toml): started\n",
      "  Preparing metadata (pyproject.toml): finished with status 'done'\n",
      "Building wheels for collected packages: pyqrcode\n",
      "  Building wheel for pyqrcode (pyproject.toml): started\n",
      "  Building wheel for pyqrcode (pyproject.toml): finished with status 'done'\n",
      "  Created wheel for pyqrcode: filename=PyQRCode-1.2.1-py3-none-any.whl size=36235 sha256=e4bb8bc1c5e83d88d06c5f52be341801833cfe3156fdb66be5ddd04e1f0a0fdf\n",
      "  Stored in directory: c:\\users\\sanskruti\\appdata\\local\\pip\\cache\\wheels\\38\\e3\\f8\\8940ce720556414aefb861a143102b931d8327f6eaea5733e8\n",
      "Successfully built pyqrcode\n",
      "Installing collected packages: pyqrcode\n",
      "Successfully installed pyqrcode-1.2.1\n",
      "Note: you may need to restart the kernel to use updated packages.\n"
     ]
    }
   ],
   "source": [
    "pip install pyqrcode"
   ]
  },
  {
   "cell_type": "code",
   "execution_count": 2,
   "id": "9499a7fe-9944-4db4-b072-ecda067e30f2",
   "metadata": {},
   "outputs": [
    {
     "name": "stdout",
     "output_type": "stream",
     "text": [
      "Collecting pypng\n",
      "  Downloading pypng-0.20220715.0-py3-none-any.whl (58 kB)\n",
      "     ---------------------------------------- 0.0/58.1 kB ? eta -:--:--\n",
      "     -------------- ------------------------- 20.5/58.1 kB ? eta -:--:--\n",
      "     -------------------------- ----------- 41.0/58.1 kB 653.6 kB/s eta 0:00:01\n",
      "     -------------------------------------- 58.1/58.1 kB 613.0 kB/s eta 0:00:00\n",
      "Installing collected packages: pypng\n",
      "Successfully installed pypng-0.20220715.0\n",
      "Note: you may need to restart the kernel to use updated packages.\n"
     ]
    }
   ],
   "source": [
    "pip install pypng\n"
   ]
  },
  {
   "cell_type": "code",
   "execution_count": 5,
   "id": "1fc31b46-ed1b-418a-ab95-f8c96e7fd94b",
   "metadata": {},
   "outputs": [],
   "source": [
    "#Import QRCode \n",
    "import pyqrcode\n",
    "import png\n",
    "from pyqrcode import QRCode\n",
    "\n",
    "#String which represents the QR Code\n",
    "site=\"https://www.mygreatlearning.com/\"\n",
    "\n",
    "#Generate QR Code\n",
    "url_qr=pyqrcode.create(site)\n",
    "\n",
    "#Create and save the png file\n",
    "url_qr.png('great.png', scale=6)"
   ]
  },
  {
   "cell_type": "code",
   "execution_count": null,
   "id": "df944f0d-9f01-45a2-a748-5ce689f77de0",
   "metadata": {},
   "outputs": [],
   "source": []
  }
 ],
 "metadata": {
  "kernelspec": {
   "display_name": "Python 3 (ipykernel)",
   "language": "python",
   "name": "python3"
  },
  "language_info": {
   "codemirror_mode": {
    "name": "ipython",
    "version": 3
   },
   "file_extension": ".py",
   "mimetype": "text/x-python",
   "name": "python",
   "nbconvert_exporter": "python",
   "pygments_lexer": "ipython3",
   "version": "3.12.1"
  }
 },
 "nbformat": 4,
 "nbformat_minor": 5
}
